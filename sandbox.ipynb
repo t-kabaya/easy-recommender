{
 "cells": [
  {
   "cell_type": "code",
   "execution_count": null,
   "id": "b387d2d2",
   "metadata": {},
   "outputs": [],
   "source": []
  },
  {
   "cell_type": "code",
   "execution_count": null,
   "id": "0b4d4104",
   "metadata": {},
   "outputs": [
    {
     "name": "stdout",
     "output_type": "stream",
     "text": [
      "<lightfm.data.Dataset object at 0x7f80d317d150>\n",
      "(3, 3)\n",
      "interactions:  <COOrdinate sparse matrix of dtype 'int32'\n",
      "\twith 2 stored elements and shape (3, 3)>\n",
      "  Coords\tValues\n",
      "  (0, 1)\t1\n",
      "  (2, 2)\t1\n"
     ]
    }
   ],
   "source": [
    "from lightfm.data import Dataset\n",
    "\n",
    "dataset = Dataset()\n",
    "\n",
    "# 全てのユーザー、アイテムをリストアップ。\n",
    "all_user_ids = [0, 1, 2]\n",
    "all_item_ids = [3, 4, 5]\n",
    "\n",
    "all_user_features = ['M', 'F', 'M']\n",
    "all_item_features = ['sf', 'anime']\n",
    "\n",
    "dataset.fit(users=all_user_ids, items=all_item_ids, user_features=all_user_features, item_features=all_item_features)\n",
    "print(dataset)\n",
    "\n",
    "# データセットとして扱いたいユーザー、アイテムのみピックアップ。\n",
    "user_ids = [0, 2]\n",
    "item_ids = [4, 5]\n",
    "\n",
    "# tupleの三番目はweight。weightを指定しなければimplicitになり。デフォルトの１が設定される。指定すればexplicit。movielensではrating1-5を指定。\n",
    "data = [(0, 4), (2, 5)]\n",
    "\n",
    "# weightは不要のため＿として記述。\n",
    "interactions, _ = dataset.build_interactions(data=data)\n",
    "print('interactions: ', interactions)\n",
    "\n",
    "\n",
    "user_features_data = [(0, {\"M\":1, \"F\":0})] \n",
    "\n",
    "user_features = dataset.build_user_features(user_features_data)\n",
    "\n",
    "item_features_data = [(4, {\"sf\":1, \"anime\":0})] \n",
    "\n",
    "item_features = dataset.build_item_features(item_features_data)\n",
    "\n"
   ]
  },
  {
   "cell_type": "code",
   "execution_count": null,
   "id": "d7860dc2",
   "metadata": {},
   "outputs": [],
   "source": []
  },
  {
   "cell_type": "code",
   "execution_count": null,
   "id": "89b9ea9c",
   "metadata": {},
   "outputs": [],
   "source": []
  },
  {
   "cell_type": "code",
   "execution_count": null,
   "id": "ac3e3241",
   "metadata": {},
   "outputs": [
    {
     "data": {
      "text/plain": [
       "<lightfm.lightfm.LightFM at 0x7f80d31604f0>"
      ]
     },
     "execution_count": 11,
     "metadata": {},
     "output_type": "execute_result"
    }
   ],
   "source": [
    "from lightfm import LightFM\n",
    "\n",
    "# モデルの作成\n",
    "model = LightFM(no_components=100, loss=\"bpr\", random_state=123)\n",
    "\n",
    "# 学習\n",
    "res = model.fit(interactions=interactions, user_features=user_features, item_features=item_features)\n",
    "\n",
    "res\n"
   ]
  },
  {
   "cell_type": "code",
   "execution_count": 13,
   "id": "a3dc2ff6",
   "metadata": {},
   "outputs": [
    {
     "name": "stdout",
     "output_type": "stream",
     "text": [
      "<COOrdinate sparse matrix of dtype 'float32'\n",
      "\twith 1 stored elements and shape (3, 3)>\n",
      "  Coords\tValues\n",
      "  (2, 2)\t1.0 <COOrdinate sparse matrix of dtype 'float32'\n",
      "\twith 1 stored elements and shape (3, 3)>\n",
      "  Coords\tValues\n",
      "  (0, 1)\t1.0\n"
     ]
    }
   ],
   "source": [
    "from lightfm.cross_validation import random_train_test_split\n",
    "\n",
    "# interactionsを引数にとり、\n",
    "train_interactions, test_interactions = random_train_test_split(interactions=interactions, test_percentage=0.2)\n",
    "\n",
    "print(train_interactions, test_interactions)"
   ]
  },
  {
   "cell_type": "code",
   "execution_count": null,
   "id": "03572cfa",
   "metadata": {},
   "outputs": [
    {
     "data": {
      "text/plain": [
       "array([0.1], dtype=float32)"
      ]
     },
     "execution_count": 15,
     "metadata": {},
     "output_type": "execute_result"
    }
   ],
   "source": [
    "# modelのevaluation\n",
    "\n",
    "from lightfm.evaluation import precision_at_k\n",
    "\n",
    "\n",
    "precision_at_k = precision_at_k(model=model, test_interactions=test_interactions, train_interactions=train_interactions, k=10, user_features=all_user_features, item_features=all_item_features)\n",
    "\n",
    "precision_at_k"
   ]
  }
 ],
 "metadata": {
  "kernelspec": {
   "display_name": "Python 3 (ipykernel)",
   "language": "python",
   "name": "python3"
  },
  "language_info": {
   "codemirror_mode": {
    "name": "ipython",
    "version": 3
   },
   "file_extension": ".py",
   "mimetype": "text/x-python",
   "name": "python",
   "nbconvert_exporter": "python",
   "pygments_lexer": "ipython3",
   "version": "3.10.13"
  }
 },
 "nbformat": 4,
 "nbformat_minor": 5
}
