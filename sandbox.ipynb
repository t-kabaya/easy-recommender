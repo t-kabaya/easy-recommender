{
 "cells": [
  {
   "cell_type": "code",
   "execution_count": 54,
   "id": "b387d2d2",
   "metadata": {},
   "outputs": [],
   "source": [
    "import pandas as pd\n",
    "from sklearn.preprocessing import MinMaxScaler\n",
    "from typing import List, Tuple, Dict\n",
    "\n",
    "dataset_path = \"/home/kaba/development/lightfm_sandbox/ml-1m/\"\n",
    "raw_data_df = pd.read_csv(f\"{dataset_path}ml100k.csv\")"
   ]
  },
  {
   "cell_type": "code",
   "execution_count": 55,
   "id": "c894cc81",
   "metadata": {},
   "outputs": [],
   "source": [
    "# 必要な７種の変数を用意する。\n",
    "all_user_ids = sorted(raw_data_df['user_id'].unique())\n",
    "all_item_ids = sorted(raw_data_df['item_id'].unique())\n",
    "\n",
    "# ユーザー特徴量のカラム名\n",
    "user_features_columns = [col for col in raw_data_df.columns if col.startswith('user_')]\n",
    "unique_user_features_df = pd.unique(pd.concat([raw_data_df[col] for col in user_features_columns], ignore_index=True))\n",
    "unique_user_features_list = unique_user_features_df.tolist()\n",
    "\n",
    "# アイテム特徴量のカラム名\n",
    "item_features_columns = [col for col in raw_data_df.columns if col.startswith('item_')]\n",
    "unique_item_features_df = pd.unique(pd.concat([raw_data_df[col] for col in item_features_columns], ignore_index=True))\n",
    "unique_item_features_list = unique_item_features_df.tolist()\n",
    "\n",
    "data = list(zip(raw_data_df['user_id'], raw_data_df['item_id']))\n"
   ]
  },
  {
   "cell_type": "code",
   "execution_count": 56,
   "id": "0291cfa4",
   "metadata": {},
   "outputs": [],
   "source": [
    "def build_feature_data(df: pd.DataFrame, target_column_name: str) -> List[Tuple[int, Dict]]:\n",
    "    \"\"\"カテゴリ変数は0.5、連続変数は0-1に正規化して特徴量辞書を生成\"\"\"\n",
    "    result = []\n",
    "    categorical_cols = df.select_dtypes(include=['object']).columns.tolist()\n",
    "    continuous_cols = df.select_dtypes(include=['int', 'float']).columns.tolist()\n",
    "    # user_id, item_idは正規化する必要がないため除外（あれば）\n",
    "    continuous_cols.remove(target_column_name)\n",
    "    print(continuous_cols)\n",
    "    print(df.head())\n",
    "\n",
    "    # user_id, item_idは正規化する必要がないため除外\n",
    "    for col in ['user_id', 'item_id']:\n",
    "        if col in continuous_cols:\n",
    "            continuous_cols.remove(col)\n",
    "\n",
    "    # 連値を0-1スケーリング\n",
    "    if continuous_cols:\n",
    "        scaler = MinMaxScaler()\n",
    "        df[continuous_cols] = scaler.fit_transform(df[continuous_cols])\n",
    "\n",
    "    for idx, row in df.iterrows():\n",
    "        features = {}\n",
    "\n",
    "        # カテゴリ変数\n",
    "        for col in categorical_cols:\n",
    "            val = row[col]\n",
    "            if pd.notnull(val):\n",
    "                features[f\"{col}_{val}\"] = 0.5\n",
    "\n",
    "        # 連続値\n",
    "        for col in continuous_cols:\n",
    "            features[col] = row[col]\n",
    "        id = row[target_column_name]\n",
    "\n",
    "        result.append((id, features))\n",
    "    return result"
   ]
  },
  {
   "cell_type": "code",
   "execution_count": 57,
   "id": "783037a1",
   "metadata": {},
   "outputs": [
    {
     "name": "stdout",
     "output_type": "stream",
     "text": [
      "['user_age']\n",
      "   user_id  user_age user_gender user_occupation user_zip_code\n",
      "0      196        49           M          writer         55105\n",
      "1      186        39           F       executive         00000\n",
      "2       22        25           M          writer         40206\n",
      "3      244        28           M      technician         80525\n",
      "4      166        47           M        educator         55113\n"
     ]
    },
    {
     "name": "stderr",
     "output_type": "stream",
     "text": [
      "/tmp/ipykernel_3274/13909926.py:19: SettingWithCopyWarning: \n",
      "A value is trying to be set on a copy of a slice from a DataFrame.\n",
      "Try using .loc[row_indexer,col_indexer] = value instead\n",
      "\n",
      "See the caveats in the documentation: https://pandas.pydata.org/pandas-docs/stable/user_guide/indexing.html#returning-a-view-versus-a-copy\n",
      "  df[continuous_cols] = scaler.fit_transform(df[continuous_cols])\n"
     ]
    },
    {
     "name": "stdout",
     "output_type": "stream",
     "text": [
      "['item_video_release_date', 'item_genre_unknown', 'item_genre_action', 'item_genre_adventure', 'item_genre_animation', 'item_genre_childrens', 'item_genre_comedy', 'item_genre_crime', 'item_genre_documentary', 'item_genre_drama', 'item_genre_fantasy', 'item_genre_film-noir', 'item_genre_horror', 'item_genre_musical', 'item_genre_mystery', 'item_genre_romance', 'item_genre_sci-fi', 'item_genre_thriller', 'item_genre_war', 'item_genre_western']\n",
      "   item_id                  item_title item_release_date  \\\n",
      "0      242                Kolya (1996)       24-Jan-1997   \n",
      "1      302    L.A. Confidential (1997)       01-Jan-1997   \n",
      "2      377         Heavyweights (1994)       01-Jan-1994   \n",
      "3       51  Legends of the Fall (1994)       01-Jan-1994   \n",
      "4      346         Jackie Brown (1997)       01-Jan-1997   \n",
      "\n",
      "   item_video_release_date                                      item_imdb_url  \\\n",
      "0                      NaN    http://us.imdb.com/M/title-exact?Kolya%20(1996)   \n",
      "1                      NaN  http://us.imdb.com/M/title-exact?L%2EA%2E+Conf...   \n",
      "2                      NaN  http://us.imdb.com/M/title-exact?Heavyweights%...   \n",
      "3                      NaN  http://us.imdb.com/M/title-exact?Legends%20of%...   \n",
      "4                      NaN  http://us.imdb.com/M/title-exact?imdb-title-11...   \n",
      "\n",
      "   item_genre_unknown  item_genre_action  item_genre_adventure  \\\n",
      "0                   0                  0                     0   \n",
      "1                   0                  0                     0   \n",
      "2                   0                  0                     0   \n",
      "3                   0                  0                     0   \n",
      "4                   0                  0                     0   \n",
      "\n",
      "   item_genre_animation  item_genre_childrens  ...  item_genre_fantasy  \\\n",
      "0                     0                     0  ...                   0   \n",
      "1                     0                     0  ...                   0   \n",
      "2                     0                     1  ...                   0   \n",
      "3                     0                     0  ...                   0   \n",
      "4                     0                     0  ...                   0   \n",
      "\n",
      "   item_genre_film-noir  item_genre_horror  item_genre_musical  \\\n",
      "0                     0                  0                   0   \n",
      "1                     1                  0                   0   \n",
      "2                     0                  0                   0   \n",
      "3                     0                  0                   0   \n",
      "4                     0                  0                   0   \n",
      "\n",
      "   item_genre_mystery  item_genre_romance  item_genre_sci-fi  \\\n",
      "0                   0                   0                  0   \n",
      "1                   1                   0                  0   \n",
      "2                   0                   0                  0   \n",
      "3                   0                   1                  0   \n",
      "4                   0                   0                  0   \n",
      "\n",
      "   item_genre_thriller  item_genre_war  item_genre_western  \n",
      "0                    0               0                   0  \n",
      "1                    1               0                   0  \n",
      "2                    0               0                   0  \n",
      "3                    0               1                   1  \n",
      "4                    0               0                   0  \n",
      "\n",
      "[5 rows x 24 columns]\n"
     ]
    },
    {
     "name": "stderr",
     "output_type": "stream",
     "text": [
      "/home/kaba/development/lightfm_sandbox/.venv/lib/python3.10/site-packages/sklearn/utils/_array_api.py:686: RuntimeWarning: All-NaN slice encountered\n",
      "  return xp.asarray(numpy.nanmin(X, axis=axis))\n",
      "/home/kaba/development/lightfm_sandbox/.venv/lib/python3.10/site-packages/sklearn/utils/_array_api.py:706: RuntimeWarning: All-NaN slice encountered\n",
      "  return xp.asarray(numpy.nanmax(X, axis=axis))\n",
      "/tmp/ipykernel_3274/13909926.py:19: SettingWithCopyWarning: \n",
      "A value is trying to be set on a copy of a slice from a DataFrame.\n",
      "Try using .loc[row_indexer,col_indexer] = value instead\n",
      "\n",
      "See the caveats in the documentation: https://pandas.pydata.org/pandas-docs/stable/user_guide/indexing.html#returning-a-view-versus-a-copy\n",
      "  df[continuous_cols] = scaler.fit_transform(df[continuous_cols])\n"
     ]
    }
   ],
   "source": [
    "# ユーザー特徴量抽出\n",
    "user_df = raw_data_df[user_features_columns]\n",
    "user_features_data = build_feature_data(user_df, 'user_id')\n",
    "\n",
    "# アイテム特徴量抽出\n",
    "item_df = raw_data_df[item_features_columns]\n",
    "item_features_data = build_feature_data(item_df, 'item_id')"
   ]
  },
  {
   "cell_type": "code",
   "execution_count": 58,
   "id": "0b4d4104",
   "metadata": {},
   "outputs": [
    {
     "name": "stdout",
     "output_type": "stream",
     "text": [
      "<lightfm.data.Dataset object at 0x7f5f3db94370>\n",
      "interactions:  <COOrdinate sparse matrix of dtype 'int32'\n",
      "\twith 100000 stored elements and shape (943, 1682)>\n",
      "  Coords\tValues\n",
      "  (195, 241)\t1\n",
      "  (185, 301)\t1\n",
      "  (21, 376)\t1\n",
      "  (243, 50)\t1\n",
      "  (165, 345)\t1\n",
      "  (297, 473)\t1\n",
      "  (114, 264)\t1\n",
      "  (252, 464)\t1\n",
      "  (304, 450)\t1\n",
      "  (5, 85)\t1\n",
      "  (61, 256)\t1\n",
      "  (285, 1013)\t1\n",
      "  (199, 221)\t1\n",
      "  (209, 39)\t1\n",
      "  (223, 28)\t1\n",
      "  (302, 784)\t1\n",
      "  (121, 386)\t1\n",
      "  (193, 273)\t1\n",
      "  (290, 1041)\t1\n",
      "  (233, 1183)\t1\n",
      "  (118, 391)\t1\n",
      "  (166, 485)\t1\n",
      "  (298, 143)\t1\n",
      "  (290, 117)\t1\n",
      "  (307, 0)\t1\n",
      "  :\t:\n",
      "  (536, 442)\t1\n",
      "  (617, 627)\t1\n",
      "  (486, 290)\t1\n",
      "  (112, 974)\t1\n",
      "  (942, 390)\t1\n",
      "  (863, 684)\t1\n",
      "  (749, 322)\t1\n",
      "  (278, 63)\t1\n",
      "  (645, 749)\t1\n",
      "  (653, 369)\t1\n",
      "  (616, 581)\t1\n",
      "  (912, 689)\t1\n",
      "  (659, 228)\t1\n",
      "  (420, 497)\t1\n",
      "  (494, 1090)\t1\n",
      "  (805, 420)\t1\n",
      "  (675, 537)\t1\n",
      "  (720, 261)\t1\n",
      "  (912, 208)\t1\n",
      "  (377, 77)\t1\n",
      "  (879, 475)\t1\n",
      "  (715, 203)\t1\n",
      "  (275, 1089)\t1\n",
      "  (12, 224)\t1\n",
      "  (11, 202)\t1\n"
     ]
    },
    {
     "ename": "ValueError",
     "evalue": "Feature user_gender_M not in feature mapping. Call fit first.",
     "output_type": "error",
     "traceback": [
      "\u001b[0;31m---------------------------------------------------------------------------\u001b[0m",
      "\u001b[0;31mValueError\u001b[0m                                Traceback (most recent call last)",
      "Cell \u001b[0;32mIn[58], line 13\u001b[0m\n\u001b[1;32m     10\u001b[0m interactions, _ \u001b[38;5;241m=\u001b[39m dataset\u001b[38;5;241m.\u001b[39mbuild_interactions(data\u001b[38;5;241m=\u001b[39mdata)\n\u001b[1;32m     11\u001b[0m \u001b[38;5;28mprint\u001b[39m(\u001b[38;5;124m'\u001b[39m\u001b[38;5;124minteractions: \u001b[39m\u001b[38;5;124m'\u001b[39m, interactions)\n\u001b[0;32m---> 13\u001b[0m user_features \u001b[38;5;241m=\u001b[39m \u001b[43mdataset\u001b[49m\u001b[38;5;241;43m.\u001b[39;49m\u001b[43mbuild_user_features\u001b[49m\u001b[43m(\u001b[49m\u001b[43muser_features_data\u001b[49m\u001b[43m)\u001b[49m\n\u001b[1;32m     14\u001b[0m item_features \u001b[38;5;241m=\u001b[39m dataset\u001b[38;5;241m.\u001b[39mbuild_item_features(item_features_data)\n",
      "File \u001b[0;32m~/development/lightfm_sandbox/.venv/lib/python3.10/site-packages/lightfm/data.py:376\u001b[0m, in \u001b[0;36mDataset.build_user_features\u001b[0;34m(self, data, normalize)\u001b[0m\n\u001b[1;32m    346\u001b[0m \u001b[38;5;250m\u001b[39m\u001b[38;5;124;03m\"\"\"\u001b[39;00m\n\u001b[1;32m    347\u001b[0m \u001b[38;5;124;03mBuild a user features matrix out of an iterable of the form\u001b[39;00m\n\u001b[1;32m    348\u001b[0m \u001b[38;5;124;03m(user id, [list of feature names]) or (user id, {feature name: feature weight}).\u001b[39;00m\n\u001b[0;32m   (...)\u001b[0m\n\u001b[1;32m    365\u001b[0m \u001b[38;5;124;03m    Matrix of user features.\u001b[39;00m\n\u001b[1;32m    366\u001b[0m \u001b[38;5;124;03m\"\"\"\u001b[39;00m\n\u001b[1;32m    368\u001b[0m builder \u001b[38;5;241m=\u001b[39m _FeatureBuilder(\n\u001b[1;32m    369\u001b[0m     \u001b[38;5;28mself\u001b[39m\u001b[38;5;241m.\u001b[39m_user_id_mapping,\n\u001b[1;32m    370\u001b[0m     \u001b[38;5;28mself\u001b[39m\u001b[38;5;241m.\u001b[39m_user_feature_mapping,\n\u001b[0;32m   (...)\u001b[0m\n\u001b[1;32m    373\u001b[0m     \u001b[38;5;124m\"\u001b[39m\u001b[38;5;124muser\u001b[39m\u001b[38;5;124m\"\u001b[39m,\n\u001b[1;32m    374\u001b[0m )\n\u001b[0;32m--> 376\u001b[0m \u001b[38;5;28;01mreturn\u001b[39;00m \u001b[43mbuilder\u001b[49m\u001b[38;5;241;43m.\u001b[39;49m\u001b[43mbuild\u001b[49m\u001b[43m(\u001b[49m\u001b[43mdata\u001b[49m\u001b[43m)\u001b[49m\n",
      "File \u001b[0;32m~/development/lightfm_sandbox/.venv/lib/python3.10/site-packages/lightfm/data.py:119\u001b[0m, in \u001b[0;36m_FeatureBuilder.build\u001b[0;34m(self, data)\u001b[0m\n\u001b[1;32m    116\u001b[0m         features\u001b[38;5;241m.\u001b[39mappend(idx, \u001b[38;5;28mself\u001b[39m\u001b[38;5;241m.\u001b[39m_feature_mapping[_id], \u001b[38;5;241m1.0\u001b[39m)\n\u001b[1;32m    118\u001b[0m \u001b[38;5;28;01mfor\u001b[39;00m datum \u001b[38;5;129;01min\u001b[39;00m data:\n\u001b[0;32m--> 119\u001b[0m     \u001b[38;5;28;01mfor\u001b[39;00m (entity_idx, feature_idx, weight) \u001b[38;5;129;01min\u001b[39;00m \u001b[38;5;28mself\u001b[39m\u001b[38;5;241m.\u001b[39m_process_features(datum):\n\u001b[1;32m    120\u001b[0m         features\u001b[38;5;241m.\u001b[39mappend(entity_idx, feature_idx, weight)\n\u001b[1;32m    122\u001b[0m features \u001b[38;5;241m=\u001b[39m features\u001b[38;5;241m.\u001b[39mtocoo()\u001b[38;5;241m.\u001b[39mtocsr()\n",
      "File \u001b[0;32m~/development/lightfm_sandbox/.venv/lib/python3.10/site-packages/lightfm/data.py:101\u001b[0m, in \u001b[0;36m_FeatureBuilder._process_features\u001b[0;34m(self, datum)\u001b[0m\n\u001b[1;32m     99\u001b[0m \u001b[38;5;28;01mfor\u001b[39;00m (feature, weight) \u001b[38;5;129;01min\u001b[39;00m \u001b[38;5;28mself\u001b[39m\u001b[38;5;241m.\u001b[39m_iter_features(features):\n\u001b[1;32m    100\u001b[0m     \u001b[38;5;28;01mif\u001b[39;00m feature \u001b[38;5;129;01mnot\u001b[39;00m \u001b[38;5;129;01min\u001b[39;00m \u001b[38;5;28mself\u001b[39m\u001b[38;5;241m.\u001b[39m_feature_mapping:\n\u001b[0;32m--> 101\u001b[0m         \u001b[38;5;28;01mraise\u001b[39;00m \u001b[38;5;167;01mValueError\u001b[39;00m(\n\u001b[1;32m    102\u001b[0m             \u001b[38;5;124m\"\u001b[39m\u001b[38;5;124mFeature \u001b[39m\u001b[38;5;132;01m{}\u001b[39;00m\u001b[38;5;124m not in feature mapping. \u001b[39m\u001b[38;5;124m\"\u001b[39m\n\u001b[1;32m    103\u001b[0m             \u001b[38;5;124m\"\u001b[39m\u001b[38;5;124mCall fit first.\u001b[39m\u001b[38;5;124m\"\u001b[39m\u001b[38;5;241m.\u001b[39mformat(feature)\n\u001b[1;32m    104\u001b[0m         )\n\u001b[1;32m    106\u001b[0m     feature_idx \u001b[38;5;241m=\u001b[39m \u001b[38;5;28mself\u001b[39m\u001b[38;5;241m.\u001b[39m_feature_mapping[feature]\n\u001b[1;32m    108\u001b[0m     \u001b[38;5;28;01myield\u001b[39;00m (idx, feature_idx, weight)\n",
      "\u001b[0;31mValueError\u001b[0m: Feature user_gender_M not in feature mapping. Call fit first."
     ]
    }
   ],
   "source": [
    "from lightfm.data import Dataset\n",
    "\n",
    "dataset = Dataset()\n",
    "\n",
    "# 全てのユーザー、アイテムをリストアップ。\n",
    "dataset.fit(users=all_user_ids, items=all_item_ids, user_features=unique_user_features_list, item_features=unique_item_features_list)\n",
    "print(dataset)\n",
    "\n",
    "# weightは不要のため＿として記述。\n",
    "interactions, _ = dataset.build_interactions(data=data)\n",
    "print('interactions: ', interactions)\n",
    "\n",
    "user_features = dataset.build_user_features(user_features_data)\n",
    "item_features = dataset.build_item_features(item_features_data)\n"
   ]
  },
  {
   "cell_type": "code",
   "execution_count": null,
   "id": "16515793",
   "metadata": {},
   "outputs": [
    {
     "ename": "TypeError",
     "evalue": "'int' object is not iterable",
     "output_type": "error",
     "traceback": [
      "\u001b[0;31m---------------------------------------------------------------------------\u001b[0m",
      "\u001b[0;31mTypeError\u001b[0m                                 Traceback (most recent call last)",
      "Cell \u001b[0;32mIn[24], line 3\u001b[0m\n\u001b[1;32m      1\u001b[0m interactions \u001b[38;5;241m=\u001b[39m dataset\u001b[38;5;241m.\u001b[39mbuild_interactions(data)\n\u001b[0;32m----> 3\u001b[0m user_features \u001b[38;5;241m=\u001b[39m \u001b[43mdataset\u001b[49m\u001b[38;5;241;43m.\u001b[39;49m\u001b[43mbuild_user_features\u001b[49m\u001b[43m(\u001b[49m\u001b[43mdata\u001b[49m\u001b[43m)\u001b[49m\n\u001b[1;32m      4\u001b[0m item_features \u001b[38;5;241m=\u001b[39m dataset\u001b[38;5;241m.\u001b[39mbuild_item_features(data)\n",
      "File \u001b[0;32m~/development/lightfm_sandbox/.venv/lib/python3.10/site-packages/lightfm/data.py:376\u001b[0m, in \u001b[0;36mDataset.build_user_features\u001b[0;34m(self, data, normalize)\u001b[0m\n\u001b[1;32m    346\u001b[0m \u001b[38;5;250m\u001b[39m\u001b[38;5;124;03m\"\"\"\u001b[39;00m\n\u001b[1;32m    347\u001b[0m \u001b[38;5;124;03mBuild a user features matrix out of an iterable of the form\u001b[39;00m\n\u001b[1;32m    348\u001b[0m \u001b[38;5;124;03m(user id, [list of feature names]) or (user id, {feature name: feature weight}).\u001b[39;00m\n\u001b[0;32m   (...)\u001b[0m\n\u001b[1;32m    365\u001b[0m \u001b[38;5;124;03m    Matrix of user features.\u001b[39;00m\n\u001b[1;32m    366\u001b[0m \u001b[38;5;124;03m\"\"\"\u001b[39;00m\n\u001b[1;32m    368\u001b[0m builder \u001b[38;5;241m=\u001b[39m _FeatureBuilder(\n\u001b[1;32m    369\u001b[0m     \u001b[38;5;28mself\u001b[39m\u001b[38;5;241m.\u001b[39m_user_id_mapping,\n\u001b[1;32m    370\u001b[0m     \u001b[38;5;28mself\u001b[39m\u001b[38;5;241m.\u001b[39m_user_feature_mapping,\n\u001b[0;32m   (...)\u001b[0m\n\u001b[1;32m    373\u001b[0m     \u001b[38;5;124m\"\u001b[39m\u001b[38;5;124muser\u001b[39m\u001b[38;5;124m\"\u001b[39m,\n\u001b[1;32m    374\u001b[0m )\n\u001b[0;32m--> 376\u001b[0m \u001b[38;5;28;01mreturn\u001b[39;00m \u001b[43mbuilder\u001b[49m\u001b[38;5;241;43m.\u001b[39;49m\u001b[43mbuild\u001b[49m\u001b[43m(\u001b[49m\u001b[43mdata\u001b[49m\u001b[43m)\u001b[49m\n",
      "File \u001b[0;32m~/development/lightfm_sandbox/.venv/lib/python3.10/site-packages/lightfm/data.py:119\u001b[0m, in \u001b[0;36m_FeatureBuilder.build\u001b[0;34m(self, data)\u001b[0m\n\u001b[1;32m    116\u001b[0m         features\u001b[38;5;241m.\u001b[39mappend(idx, \u001b[38;5;28mself\u001b[39m\u001b[38;5;241m.\u001b[39m_feature_mapping[_id], \u001b[38;5;241m1.0\u001b[39m)\n\u001b[1;32m    118\u001b[0m \u001b[38;5;28;01mfor\u001b[39;00m datum \u001b[38;5;129;01min\u001b[39;00m data:\n\u001b[0;32m--> 119\u001b[0m     \u001b[38;5;28;01mfor\u001b[39;00m (entity_idx, feature_idx, weight) \u001b[38;5;129;01min\u001b[39;00m \u001b[38;5;28mself\u001b[39m\u001b[38;5;241m.\u001b[39m_process_features(datum):\n\u001b[1;32m    120\u001b[0m         features\u001b[38;5;241m.\u001b[39mappend(entity_idx, feature_idx, weight)\n\u001b[1;32m    122\u001b[0m features \u001b[38;5;241m=\u001b[39m features\u001b[38;5;241m.\u001b[39mtocoo()\u001b[38;5;241m.\u001b[39mtocsr()\n",
      "File \u001b[0;32m~/development/lightfm_sandbox/.venv/lib/python3.10/site-packages/lightfm/data.py:99\u001b[0m, in \u001b[0;36m_FeatureBuilder._process_features\u001b[0;34m(self, datum)\u001b[0m\n\u001b[1;32m     91\u001b[0m     \u001b[38;5;28;01mraise\u001b[39;00m \u001b[38;5;167;01mValueError\u001b[39;00m(\n\u001b[1;32m     92\u001b[0m         \u001b[38;5;124m\"\u001b[39m\u001b[38;5;132;01m{entity_type}\u001b[39;00m\u001b[38;5;124m id \u001b[39m\u001b[38;5;132;01m{entity_id}\u001b[39;00m\u001b[38;5;124m not in \u001b[39m\u001b[38;5;132;01m{entity_type}\u001b[39;00m\u001b[38;5;124m id mappings.\u001b[39m\u001b[38;5;124m\"\u001b[39m\u001b[38;5;241m.\u001b[39mformat(\n\u001b[1;32m     93\u001b[0m             entity_type\u001b[38;5;241m=\u001b[39m\u001b[38;5;28mself\u001b[39m\u001b[38;5;241m.\u001b[39m_entity_type, entity_id\u001b[38;5;241m=\u001b[39mentity_id\n\u001b[1;32m     94\u001b[0m         )\n\u001b[1;32m     95\u001b[0m     )\n\u001b[1;32m     97\u001b[0m idx \u001b[38;5;241m=\u001b[39m \u001b[38;5;28mself\u001b[39m\u001b[38;5;241m.\u001b[39m_id_mapping[entity_id]\n\u001b[0;32m---> 99\u001b[0m \u001b[38;5;28;01mfor\u001b[39;00m (feature, weight) \u001b[38;5;129;01min\u001b[39;00m \u001b[38;5;28mself\u001b[39m\u001b[38;5;241m.\u001b[39m_iter_features(features):\n\u001b[1;32m    100\u001b[0m     \u001b[38;5;28;01mif\u001b[39;00m feature \u001b[38;5;129;01mnot\u001b[39;00m \u001b[38;5;129;01min\u001b[39;00m \u001b[38;5;28mself\u001b[39m\u001b[38;5;241m.\u001b[39m_feature_mapping:\n\u001b[1;32m    101\u001b[0m         \u001b[38;5;28;01mraise\u001b[39;00m \u001b[38;5;167;01mValueError\u001b[39;00m(\n\u001b[1;32m    102\u001b[0m             \u001b[38;5;124m\"\u001b[39m\u001b[38;5;124mFeature \u001b[39m\u001b[38;5;132;01m{}\u001b[39;00m\u001b[38;5;124m not in feature mapping. \u001b[39m\u001b[38;5;124m\"\u001b[39m\n\u001b[1;32m    103\u001b[0m             \u001b[38;5;124m\"\u001b[39m\u001b[38;5;124mCall fit first.\u001b[39m\u001b[38;5;124m\"\u001b[39m\u001b[38;5;241m.\u001b[39mformat(feature)\n\u001b[1;32m    104\u001b[0m         )\n",
      "File \u001b[0;32m~/development/lightfm_sandbox/.venv/lib/python3.10/site-packages/lightfm/data.py:77\u001b[0m, in \u001b[0;36m_FeatureBuilder._iter_features\u001b[0;34m(self, features)\u001b[0m\n\u001b[1;32m     74\u001b[0m         \u001b[38;5;28;01myield\u001b[39;00m entry\n\u001b[1;32m     76\u001b[0m \u001b[38;5;28;01melse\u001b[39;00m:\n\u001b[0;32m---> 77\u001b[0m     \u001b[38;5;28;01mfor\u001b[39;00m feature_name \u001b[38;5;129;01min\u001b[39;00m features:\n\u001b[1;32m     78\u001b[0m         \u001b[38;5;28;01myield\u001b[39;00m (feature_name, \u001b[38;5;241m1.0\u001b[39m)\n",
      "\u001b[0;31mTypeError\u001b[0m: 'int' object is not iterable"
     ]
    }
   ],
   "source": [
    "interactions = dataset.build_interactions(data)\n",
    "\n",
    "user_features = dataset.build_user_features(data)\n",
    "item_features = dataset.build_item_features(data)\n"
   ]
  },
  {
   "cell_type": "code",
   "execution_count": null,
   "id": "ac3e3241",
   "metadata": {},
   "outputs": [
    {
     "data": {
      "text/plain": [
       "<lightfm.lightfm.LightFM at 0x7f2208d599f0>"
      ]
     },
     "execution_count": 43,
     "metadata": {},
     "output_type": "execute_result"
    }
   ],
   "source": [
    "from lightfm import LightFM\n",
    "\n",
    "# モデルの作成\n",
    "model = LightFM(no_components=100, loss=\"warp\", random_state=123)\n",
    "\n",
    "# 学習\n",
    "res = model.fit(interactions=interactions, user_features=user_features, item_features=item_features)\n",
    "\n",
    "res\n"
   ]
  },
  {
   "cell_type": "code",
   "execution_count": null,
   "id": "a3dc2ff6",
   "metadata": {},
   "outputs": [
    {
     "name": "stdout",
     "output_type": "stream",
     "text": [
      "<COOrdinate sparse matrix of dtype 'float32'\n",
      "\twith 1 stored elements and shape (3, 3)>\n",
      "  Coords\tValues\n",
      "  (2, 2)\t1.0 <COOrdinate sparse matrix of dtype 'float32'\n",
      "\twith 1 stored elements and shape (3, 3)>\n",
      "  Coords\tValues\n",
      "  (0, 1)\t1.0\n"
     ]
    }
   ],
   "source": [
    "from lightfm.cross_validation import random_train_test_split\n",
    "\n",
    "# interactionsを引数にとり、\n",
    "train_interactions, test_interactions = random_train_test_split(interactions=interactions, test_percentage=0.2)\n",
    "\n",
    "print(train_interactions, test_interactions)"
   ]
  },
  {
   "cell_type": "code",
   "execution_count": null,
   "id": "03572cfa",
   "metadata": {},
   "outputs": [
    {
     "ename": "AttributeError",
     "evalue": "'list' object has no attribute 'tocsr'",
     "output_type": "error",
     "traceback": [
      "\u001b[0;31m---------------------------------------------------------------------------\u001b[0m",
      "\u001b[0;31mAttributeError\u001b[0m                            Traceback (most recent call last)",
      "Cell \u001b[0;32mIn[45], line 6\u001b[0m\n\u001b[1;32m      1\u001b[0m \u001b[38;5;66;03m# modelのevaluation\u001b[39;00m\n\u001b[1;32m      3\u001b[0m \u001b[38;5;28;01mfrom\u001b[39;00m\u001b[38;5;250m \u001b[39m\u001b[38;5;21;01mlightfm\u001b[39;00m\u001b[38;5;21;01m.\u001b[39;00m\u001b[38;5;21;01mevaluation\u001b[39;00m\u001b[38;5;250m \u001b[39m\u001b[38;5;28;01mimport\u001b[39;00m precision_at_k\n\u001b[0;32m----> 6\u001b[0m precision_at_k \u001b[38;5;241m=\u001b[39m \u001b[43mprecision_at_k\u001b[49m\u001b[43m(\u001b[49m\u001b[43mmodel\u001b[49m\u001b[38;5;241;43m=\u001b[39;49m\u001b[43mmodel\u001b[49m\u001b[43m,\u001b[49m\u001b[43m \u001b[49m\u001b[43mtest_interactions\u001b[49m\u001b[38;5;241;43m=\u001b[39;49m\u001b[43mtest_interactions\u001b[49m\u001b[43m,\u001b[49m\u001b[43m \u001b[49m\u001b[43mtrain_interactions\u001b[49m\u001b[38;5;241;43m=\u001b[39;49m\u001b[43mtrain_interactions\u001b[49m\u001b[43m,\u001b[49m\u001b[43m \u001b[49m\u001b[43mk\u001b[49m\u001b[38;5;241;43m=\u001b[39;49m\u001b[38;5;241;43m10\u001b[39;49m\u001b[43m,\u001b[49m\u001b[43m \u001b[49m\u001b[43muser_features\u001b[49m\u001b[38;5;241;43m=\u001b[39;49m\u001b[43mall_user_features\u001b[49m\u001b[43m,\u001b[49m\u001b[43m \u001b[49m\u001b[43mitem_features\u001b[49m\u001b[38;5;241;43m=\u001b[39;49m\u001b[43mall_item_features\u001b[49m\u001b[43m)\u001b[49m\n\u001b[1;32m      8\u001b[0m precision_at_k\n",
      "File \u001b[0;32m~/development/lightfm_sandbox/.venv/lib/python3.10/site-packages/lightfm/evaluation.py:71\u001b[0m, in \u001b[0;36mprecision_at_k\u001b[0;34m(model, test_interactions, train_interactions, k, user_features, item_features, preserve_rows, num_threads, check_intersections)\u001b[0m\n\u001b[1;32m     68\u001b[0m \u001b[38;5;28;01mif\u001b[39;00m num_threads \u001b[38;5;241m<\u001b[39m \u001b[38;5;241m1\u001b[39m:\n\u001b[1;32m     69\u001b[0m     \u001b[38;5;28;01mraise\u001b[39;00m \u001b[38;5;167;01mValueError\u001b[39;00m(\u001b[38;5;124m\"\u001b[39m\u001b[38;5;124mNumber of threads must be 1 or larger.\u001b[39m\u001b[38;5;124m\"\u001b[39m)\n\u001b[0;32m---> 71\u001b[0m ranks \u001b[38;5;241m=\u001b[39m \u001b[43mmodel\u001b[49m\u001b[38;5;241;43m.\u001b[39;49m\u001b[43mpredict_rank\u001b[49m\u001b[43m(\u001b[49m\n\u001b[1;32m     72\u001b[0m \u001b[43m    \u001b[49m\u001b[43mtest_interactions\u001b[49m\u001b[43m,\u001b[49m\n\u001b[1;32m     73\u001b[0m \u001b[43m    \u001b[49m\u001b[43mtrain_interactions\u001b[49m\u001b[38;5;241;43m=\u001b[39;49m\u001b[43mtrain_interactions\u001b[49m\u001b[43m,\u001b[49m\n\u001b[1;32m     74\u001b[0m \u001b[43m    \u001b[49m\u001b[43muser_features\u001b[49m\u001b[38;5;241;43m=\u001b[39;49m\u001b[43muser_features\u001b[49m\u001b[43m,\u001b[49m\n\u001b[1;32m     75\u001b[0m \u001b[43m    \u001b[49m\u001b[43mitem_features\u001b[49m\u001b[38;5;241;43m=\u001b[39;49m\u001b[43mitem_features\u001b[49m\u001b[43m,\u001b[49m\n\u001b[1;32m     76\u001b[0m \u001b[43m    \u001b[49m\u001b[43mnum_threads\u001b[49m\u001b[38;5;241;43m=\u001b[39;49m\u001b[43mnum_threads\u001b[49m\u001b[43m,\u001b[49m\n\u001b[1;32m     77\u001b[0m \u001b[43m    \u001b[49m\u001b[43mcheck_intersections\u001b[49m\u001b[38;5;241;43m=\u001b[39;49m\u001b[43mcheck_intersections\u001b[49m\u001b[43m,\u001b[49m\n\u001b[1;32m     78\u001b[0m \u001b[43m\u001b[49m\u001b[43m)\u001b[49m\n\u001b[1;32m     80\u001b[0m ranks\u001b[38;5;241m.\u001b[39mdata \u001b[38;5;241m=\u001b[39m np\u001b[38;5;241m.\u001b[39mless(ranks\u001b[38;5;241m.\u001b[39mdata, k, ranks\u001b[38;5;241m.\u001b[39mdata)\n\u001b[1;32m     82\u001b[0m precision \u001b[38;5;241m=\u001b[39m np\u001b[38;5;241m.\u001b[39msqueeze(np\u001b[38;5;241m.\u001b[39marray(ranks\u001b[38;5;241m.\u001b[39msum(axis\u001b[38;5;241m=\u001b[39m\u001b[38;5;241m1\u001b[39m))) \u001b[38;5;241m/\u001b[39m k\n",
      "File \u001b[0;32m~/development/lightfm_sandbox/.venv/lib/python3.10/site-packages/lightfm/lightfm.py:949\u001b[0m, in \u001b[0;36mLightFM.predict_rank\u001b[0;34m(self, test_interactions, train_interactions, item_features, user_features, num_threads, check_intersections)\u001b[0m\n\u001b[1;32m    945\u001b[0m     \u001b[38;5;28mself\u001b[39m\u001b[38;5;241m.\u001b[39m_check_test_train_intersections(test_interactions, train_interactions)\n\u001b[1;32m    947\u001b[0m n_users, n_items \u001b[38;5;241m=\u001b[39m test_interactions\u001b[38;5;241m.\u001b[39mshape\n\u001b[0;32m--> 949\u001b[0m (user_features, item_features) \u001b[38;5;241m=\u001b[39m \u001b[38;5;28;43mself\u001b[39;49m\u001b[38;5;241;43m.\u001b[39;49m\u001b[43m_construct_feature_matrices\u001b[49m\u001b[43m(\u001b[49m\n\u001b[1;32m    950\u001b[0m \u001b[43m    \u001b[49m\u001b[43mn_users\u001b[49m\u001b[43m,\u001b[49m\u001b[43m \u001b[49m\u001b[43mn_items\u001b[49m\u001b[43m,\u001b[49m\u001b[43m \u001b[49m\u001b[43muser_features\u001b[49m\u001b[43m,\u001b[49m\u001b[43m \u001b[49m\u001b[43mitem_features\u001b[49m\n\u001b[1;32m    951\u001b[0m \u001b[43m\u001b[49m\u001b[43m)\u001b[49m\n\u001b[1;32m    953\u001b[0m \u001b[38;5;28;01mif\u001b[39;00m \u001b[38;5;129;01mnot\u001b[39;00m item_features\u001b[38;5;241m.\u001b[39mshape[\u001b[38;5;241m1\u001b[39m] \u001b[38;5;241m==\u001b[39m \u001b[38;5;28mself\u001b[39m\u001b[38;5;241m.\u001b[39mitem_embeddings\u001b[38;5;241m.\u001b[39mshape[\u001b[38;5;241m0\u001b[39m]:\n\u001b[1;32m    954\u001b[0m     \u001b[38;5;28;01mraise\u001b[39;00m \u001b[38;5;167;01mValueError\u001b[39;00m(\u001b[38;5;124m\"\u001b[39m\u001b[38;5;124mIncorrect number of features in item_features\u001b[39m\u001b[38;5;124m\"\u001b[39m)\n",
      "File \u001b[0;32m~/development/lightfm_sandbox/.venv/lib/python3.10/site-packages/lightfm/lightfm.py:321\u001b[0m, in \u001b[0;36mLightFM._construct_feature_matrices\u001b[0;34m(self, n_users, n_items, user_features, item_features)\u001b[0m\n\u001b[1;32m    319\u001b[0m     user_features \u001b[38;5;241m=\u001b[39m sp\u001b[38;5;241m.\u001b[39midentity(n_users, dtype\u001b[38;5;241m=\u001b[39mCYTHON_DTYPE, \u001b[38;5;28mformat\u001b[39m\u001b[38;5;241m=\u001b[39m\u001b[38;5;124m\"\u001b[39m\u001b[38;5;124mcsr\u001b[39m\u001b[38;5;124m\"\u001b[39m)\n\u001b[1;32m    320\u001b[0m \u001b[38;5;28;01melse\u001b[39;00m:\n\u001b[0;32m--> 321\u001b[0m     user_features \u001b[38;5;241m=\u001b[39m \u001b[43muser_features\u001b[49m\u001b[38;5;241;43m.\u001b[39;49m\u001b[43mtocsr\u001b[49m()\n\u001b[1;32m    323\u001b[0m \u001b[38;5;28;01mif\u001b[39;00m item_features \u001b[38;5;129;01mis\u001b[39;00m \u001b[38;5;28;01mNone\u001b[39;00m:\n\u001b[1;32m    324\u001b[0m     item_features \u001b[38;5;241m=\u001b[39m sp\u001b[38;5;241m.\u001b[39midentity(n_items, dtype\u001b[38;5;241m=\u001b[39mCYTHON_DTYPE, \u001b[38;5;28mformat\u001b[39m\u001b[38;5;241m=\u001b[39m\u001b[38;5;124m\"\u001b[39m\u001b[38;5;124mcsr\u001b[39m\u001b[38;5;124m\"\u001b[39m)\n",
      "\u001b[0;31mAttributeError\u001b[0m: 'list' object has no attribute 'tocsr'"
     ]
    }
   ],
   "source": [
    "# modelのevaluation\n",
    "\n",
    "from lightfm.evaluation import precision_at_k\n",
    "\n",
    "\n",
    "precision_at_k = precision_at_k(model=model, test_interactions=test_interactions, train_interactions=train_interactions, k=10, user_features=all_user_features, item_features=all_item_features)\n",
    "\n",
    "precision_at_k"
   ]
  }
 ],
 "metadata": {
  "kernelspec": {
   "display_name": "Python 3 (ipykernel)",
   "language": "python",
   "name": "python3"
  },
  "language_info": {
   "codemirror_mode": {
    "name": "ipython",
    "version": 3
   },
   "file_extension": ".py",
   "mimetype": "text/x-python",
   "name": "python",
   "nbconvert_exporter": "python",
   "pygments_lexer": "ipython3",
   "version": "3.10.13"
  }
 },
 "nbformat": 4,
 "nbformat_minor": 5
}
