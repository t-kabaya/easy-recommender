{
 "cells": [
  {
   "cell_type": "code",
   "execution_count": 16,
   "id": "b387d2d2",
   "metadata": {},
   "outputs": [],
   "source": [
    "import pandas as pd\n",
    "from sklearn.preprocessing import MinMaxScaler\n",
    "from typing import List, Tuple, Dict\n",
    "\n",
    "dataset_path = \"/home/kaba/development/lightfm_sandbox/ml-1m/\"\n",
    "raw_data_df = pd.read_csv(f\"{dataset_path}ml100k.csv\")\n",
    "# すべての値がNaNのカラムを削除\n",
    "raw_data_df = raw_data_df.dropna(axis=1, how='all')\n"
   ]
  },
  {
   "cell_type": "code",
   "execution_count": 17,
   "id": "c894cc81",
   "metadata": {},
   "outputs": [],
   "source": [
    "# 必要な７種の変数を用意する。\n",
    "all_user_ids = sorted(raw_data_df['user_id'].unique())\n",
    "all_item_ids = sorted(raw_data_df['item_id'].unique())\n",
    "\n",
    "# ユーザー特徴量のカラム名\n",
    "user_features_columns = [\n",
    "    col for col in raw_data_df.columns\n",
    "    if col.startswith('user_') and col != 'user_id'\n",
    "]\n",
    "unique_user_features_df = pd.unique(pd.concat([raw_data_df[col] for col in user_features_columns], ignore_index=True))\n",
    "unique_user_features_list = unique_user_features_df.tolist()\n",
    "unique_user_features_list = []\n",
    "\n",
    "for col in user_features_columns:\n",
    "    # NAN二も対応すべくuser_ageのような、target+カラム名のようなケースも考慮する。\n",
    "    unique_user_features_list.append(f\"{col}\")\n",
    "    unique_values = raw_data_df[col].dropna().unique()\n",
    "    for val in unique_values:\n",
    "        unique_user_features_list.append(f\"{col}_{val}\")\n",
    "\n",
    "# アイテム特徴量のカラム名\n",
    "item_features_columns = [\n",
    "    col for col in raw_data_df.columns\n",
    "    if col.startswith('item_') and col != 'item_id'\n",
    "]\n",
    "unique_item_features_df = pd.unique(pd.concat([raw_data_df[col] for col in item_features_columns], ignore_index=True))\n",
    "unique_item_features_list = unique_item_features_df.tolist()\n",
    "\n",
    "unique_item_features_list = []\n",
    "\n",
    "for col in item_features_columns:\n",
    "    # NAN二も対応すべくuser_ageのような、target+カラム名のようなケースも考慮する。\n",
    "    unique_item_features_list.append(f\"{col}\")\n",
    "    unique_values = raw_data_df[col].dropna().unique()\n",
    "    for val in unique_values:\n",
    "        unique_item_features_list.append(f\"{col}_{val}\")\n",
    "\n",
    "data = list(zip(raw_data_df['user_id'], raw_data_df['item_id']))\n"
   ]
  },
  {
   "cell_type": "code",
   "execution_count": 18,
   "id": "0291cfa4",
   "metadata": {},
   "outputs": [],
   "source": [
    "def build_feature_data(df: pd.DataFrame, target_column_name: str) -> List[Tuple[int, Dict]]:\n",
    "    \"\"\"カテゴリ変数は0.5、連続変数は0-1に正規化して特徴量辞書を生成\"\"\"\n",
    "    result = []\n",
    "    categorical_cols = df.select_dtypes(include=['object']).columns.tolist()\n",
    "    continuous_cols = df.select_dtypes(include=['int', 'float']).columns.tolist()\n",
    "    # user_id, item_idは正規化する必要がないため除外（あれば）\n",
    "    continuous_cols.remove(target_column_name)\n",
    "\n",
    "    # user_id, item_idは正規化する必要がないため除外\n",
    "    for col in ['user_id', 'item_id']:\n",
    "        if col in continuous_cols:\n",
    "            continuous_cols.remove(col)\n",
    "\n",
    "    # 連値を0-1スケーリング\n",
    "    if continuous_cols:\n",
    "        scaler = MinMaxScaler()\n",
    "        df[continuous_cols] = scaler.fit_transform(df[continuous_cols])\n",
    "\n",
    "    for idx, row in df.iterrows():\n",
    "        features = {}\n",
    "\n",
    "        # カテゴリ変数\n",
    "        for col in categorical_cols:\n",
    "            val = row[col]\n",
    "            if pd.notnull(val):\n",
    "                features[f\"{col}_{val}\"] = 0.5\n",
    "\n",
    "        # 連続値\n",
    "        for col in continuous_cols:\n",
    "            features[col] = row[col]\n",
    "        id = row[target_column_name]\n",
    "\n",
    "        result.append((id, features))\n",
    "    return result"
   ]
  },
  {
   "cell_type": "code",
   "execution_count": 19,
   "id": "783037a1",
   "metadata": {},
   "outputs": [
    {
     "name": "stderr",
     "output_type": "stream",
     "text": [
      "/tmp/ipykernel_7884/1490594742.py:17: SettingWithCopyWarning: \n",
      "A value is trying to be set on a copy of a slice from a DataFrame.\n",
      "Try using .loc[row_indexer,col_indexer] = value instead\n",
      "\n",
      "See the caveats in the documentation: https://pandas.pydata.org/pandas-docs/stable/user_guide/indexing.html#returning-a-view-versus-a-copy\n",
      "  df[continuous_cols] = scaler.fit_transform(df[continuous_cols])\n",
      "/tmp/ipykernel_7884/1490594742.py:17: SettingWithCopyWarning: \n",
      "A value is trying to be set on a copy of a slice from a DataFrame.\n",
      "Try using .loc[row_indexer,col_indexer] = value instead\n",
      "\n",
      "See the caveats in the documentation: https://pandas.pydata.org/pandas-docs/stable/user_guide/indexing.html#returning-a-view-versus-a-copy\n",
      "  df[continuous_cols] = scaler.fit_transform(df[continuous_cols])\n"
     ]
    }
   ],
   "source": [
    "# ユーザー特徴量抽出\n",
    "user_df = raw_data_df[user_features_columns + ['user_id']]\n",
    "user_features_data = build_feature_data(user_df, 'user_id')\n",
    "\n",
    "# アイテム特徴量抽出\n",
    "item_df = raw_data_df[item_features_columns + ['item_id']]\n",
    "item_features_data = build_feature_data(item_df, 'item_id')"
   ]
  },
  {
   "cell_type": "code",
   "execution_count": 20,
   "id": "4b59962d",
   "metadata": {},
   "outputs": [],
   "source": [
    "import math\n",
    "\n",
    "for user_id, feature_dict in item_features_data:\n",
    "    for key, value in feature_dict.items():\n",
    "        if isinstance(value, float) and math.isnan(value):\n",
    "            print(f\"user_id={user_id}, feature={key}, value=NaN\")\n"
   ]
  },
  {
   "cell_type": "code",
   "execution_count": 21,
   "id": "0b4d4104",
   "metadata": {},
   "outputs": [
    {
     "name": "stdout",
     "output_type": "stream",
     "text": [
      "<lightfm.data.Dataset object at 0x7f9838869570>\n",
      "interactions:  <COOrdinate sparse matrix of dtype 'int32'\n",
      "\twith 100000 stored elements and shape (943, 1682)>\n",
      "  Coords\tValues\n",
      "  (195, 241)\t1\n",
      "  (185, 301)\t1\n",
      "  (21, 376)\t1\n",
      "  (243, 50)\t1\n",
      "  (165, 345)\t1\n",
      "  (297, 473)\t1\n",
      "  (114, 264)\t1\n",
      "  (252, 464)\t1\n",
      "  (304, 450)\t1\n",
      "  (5, 85)\t1\n",
      "  (61, 256)\t1\n",
      "  (285, 1013)\t1\n",
      "  (199, 221)\t1\n",
      "  (209, 39)\t1\n",
      "  (223, 28)\t1\n",
      "  (302, 784)\t1\n",
      "  (121, 386)\t1\n",
      "  (193, 273)\t1\n",
      "  (290, 1041)\t1\n",
      "  (233, 1183)\t1\n",
      "  (118, 391)\t1\n",
      "  (166, 485)\t1\n",
      "  (298, 143)\t1\n",
      "  (290, 117)\t1\n",
      "  (307, 0)\t1\n",
      "  :\t:\n",
      "  (536, 442)\t1\n",
      "  (617, 627)\t1\n",
      "  (486, 290)\t1\n",
      "  (112, 974)\t1\n",
      "  (942, 390)\t1\n",
      "  (863, 684)\t1\n",
      "  (749, 322)\t1\n",
      "  (278, 63)\t1\n",
      "  (645, 749)\t1\n",
      "  (653, 369)\t1\n",
      "  (616, 581)\t1\n",
      "  (912, 689)\t1\n",
      "  (659, 228)\t1\n",
      "  (420, 497)\t1\n",
      "  (494, 1090)\t1\n",
      "  (805, 420)\t1\n",
      "  (675, 537)\t1\n",
      "  (720, 261)\t1\n",
      "  (912, 208)\t1\n",
      "  (377, 77)\t1\n",
      "  (879, 475)\t1\n",
      "  (715, 203)\t1\n",
      "  (275, 1089)\t1\n",
      "  (12, 224)\t1\n",
      "  (11, 202)\t1\n"
     ]
    }
   ],
   "source": [
    "from lightfm.data import Dataset\n",
    "\n",
    "dataset = Dataset()\n",
    "\n",
    "# 全てのユーザー、アイテムをリストアップ。\n",
    "dataset.fit(users=all_user_ids, items=all_item_ids, user_features=unique_user_features_list, item_features=unique_item_features_list)\n",
    "print(dataset)\n",
    "\n",
    "# weightは不要のため＿として記述。\n",
    "interactions, _ = dataset.build_interactions(data=data)\n",
    "print('interactions: ', interactions)\n",
    "\n",
    "user_features = dataset.build_user_features(user_features_data)\n",
    "item_features = dataset.build_item_features(item_features_data)\n"
   ]
  },
  {
   "cell_type": "code",
   "execution_count": 22,
   "id": "fe56e877",
   "metadata": {},
   "outputs": [
    {
     "name": "stdout",
     "output_type": "stream",
     "text": [
      "[(242, {'user_gender_M': 0.5, 'user_occupation_educator': 0.5, 'user_zip_code_31404': 0.5, 'user_age': 0.3939393939393939}), (242, {'user_gender_M': 0.5, 'user_occupation_educator': 0.5, 'user_zip_code_31404': 0.5, 'user_age': 0.3939393939393939}), (242, {'user_gender_M': 0.5, 'user_occupation_educator': 0.5, 'user_zip_code_31404': 0.5, 'user_age': 0.3939393939393939}), (242, {'user_gender_M': 0.5, 'user_occupation_educator': 0.5, 'user_zip_code_31404': 0.5, 'user_age': 0.3939393939393939}), (242, {'user_gender_M': 0.5, 'user_occupation_educator': 0.5, 'user_zip_code_31404': 0.5, 'user_age': 0.3939393939393939}), (242, {'user_gender_M': 0.5, 'user_occupation_educator': 0.5, 'user_zip_code_31404': 0.5, 'user_age': 0.3939393939393939}), (242, {'user_gender_M': 0.5, 'user_occupation_educator': 0.5, 'user_zip_code_31404': 0.5, 'user_age': 0.3939393939393939}), (242, {'user_gender_M': 0.5, 'user_occupation_educator': 0.5, 'user_zip_code_31404': 0.5, 'user_age': 0.3939393939393939}), (242, {'user_gender_M': 0.5, 'user_occupation_educator': 0.5, 'user_zip_code_31404': 0.5, 'user_age': 0.3939393939393939}), (242, {'user_gender_M': 0.5, 'user_occupation_educator': 0.5, 'user_zip_code_31404': 0.5, 'user_age': 0.3939393939393939}), (242, {'user_gender_M': 0.5, 'user_occupation_educator': 0.5, 'user_zip_code_31404': 0.5, 'user_age': 0.3939393939393939}), (242, {'user_gender_M': 0.5, 'user_occupation_educator': 0.5, 'user_zip_code_31404': 0.5, 'user_age': 0.3939393939393939}), (242, {'user_gender_M': 0.5, 'user_occupation_educator': 0.5, 'user_zip_code_31404': 0.5, 'user_age': 0.3939393939393939}), (242, {'user_gender_M': 0.5, 'user_occupation_educator': 0.5, 'user_zip_code_31404': 0.5, 'user_age': 0.3939393939393939}), (242, {'user_gender_M': 0.5, 'user_occupation_educator': 0.5, 'user_zip_code_31404': 0.5, 'user_age': 0.3939393939393939}), (242, {'user_gender_M': 0.5, 'user_occupation_educator': 0.5, 'user_zip_code_31404': 0.5, 'user_age': 0.3939393939393939}), (242, {'user_gender_M': 0.5, 'user_occupation_educator': 0.5, 'user_zip_code_31404': 0.5, 'user_age': 0.3939393939393939}), (242, {'user_gender_M': 0.5, 'user_occupation_educator': 0.5, 'user_zip_code_31404': 0.5, 'user_age': 0.3939393939393939}), (242, {'user_gender_M': 0.5, 'user_occupation_educator': 0.5, 'user_zip_code_31404': 0.5, 'user_age': 0.3939393939393939}), (242, {'user_gender_M': 0.5, 'user_occupation_educator': 0.5, 'user_zip_code_31404': 0.5, 'user_age': 0.3939393939393939})]\n",
      "(196, {'user_gender_M': 0.5, 'user_occupation_writer': 0.5, 'user_zip_code_55105': 0.5, 'user_age': 0.6363636363636364})\n"
     ]
    }
   ],
   "source": [
    "user_features_data\n",
    "\n",
    "results = [entry for entry in user_features_data if entry[0] == 242]\n",
    "print(results)\n",
    "\n",
    "# 1件だけ欲しい場合は以下でも可\n",
    "result = next((entry for entry in user_features_data if entry[0] == 196), None)\n",
    "\n",
    "print(result)\n"
   ]
  },
  {
   "cell_type": "code",
   "execution_count": 23,
   "id": "fe33c8ad",
   "metadata": {},
   "outputs": [
    {
     "name": "stdout",
     "output_type": "stream",
     "text": [
      "<Compressed Sparse Row sparse matrix of dtype 'float32'\n",
      "\twith 4715 stored elements and shape (943, 1826)>\n",
      "  Coords\tValues\n",
      "  (0, 0)\t0.002087418222799897\n",
      "  (0, 943)\t0.14624591171741486\n",
      "  (0, 1006)\t0.28388887643814087\n",
      "  (0, 1011)\t0.28388887643814087\n",
      "  (0, 1145)\t0.28388887643814087\n",
      "  (1, 1)\t0.007287987042218447\n",
      "  (1, 943)\t0.31492921710014343\n",
      "  (1, 1007)\t0.22592759132385254\n",
      "  (1, 1019)\t0.22592759132385254\n",
      "  (1, 1250)\t0.22592759132385254\n",
      "  (2, 2)\t0.010516253300011158\n",
      "  (2, 943)\t0.1376672238111496\n",
      "  (2, 1006)\t0.28393885493278503\n",
      "  (2, 1009)\t0.28393885493278503\n",
      "  (2, 1284)\t0.28393885493278503\n",
      "  (3, 3)\t0.023157894611358643\n",
      "  (3, 943)\t0.1431579291820526\n",
      "  (3, 1006)\t0.2778947353363037\n",
      "  (3, 1011)\t0.2778947353363037\n",
      "  (3, 1282)\t0.2778947353363037\n",
      "  (4, 4)\t0.0030080669093877077\n",
      "  (4, 943)\t0.20737437903881073\n",
      "  (4, 1007)\t0.2632058560848236\n",
      "  (4, 1019)\t0.2632058560848236\n",
      "  (4, 1138)\t0.2632058560848236\n",
      "  :\t:\n",
      "  (938, 938)\t0.01128590852022171\n",
      "  (938, 943)\t0.1591997891664505\n",
      "  (938, 1007)\t0.2765047550201416\n",
      "  (938, 1017)\t0.2765047550201416\n",
      "  (938, 1821)\t0.2765047550201416\n",
      "  (939, 939)\t0.004949752241373062\n",
      "  (939, 943)\t0.20061500370502472\n",
      "  (939, 1006)\t0.26481175422668457\n",
      "  (939, 1016)\t0.26481175422668457\n",
      "  (939, 1110)\t0.26481175422668457\n",
      "  (940, 940)\t0.0260869562625885\n",
      "  (940, 943)\t0.11304349452257156\n",
      "  (940, 1006)\t0.2869565188884735\n",
      "  (940, 1017)\t0.2869565188884735\n",
      "  (940, 1825)\t0.2869565188884735\n",
      "  (941, 941)\t0.005932051222771406\n",
      "  (941, 943)\t0.29111987352371216\n",
      "  (941, 1007)\t0.23431602120399475\n",
      "  (941, 1014)\t0.23431602120399475\n",
      "  (941, 1818)\t0.23431602120399475\n",
      "  (942, 942)\t0.0034342810977250338\n",
      "  (942, 943)\t0.13112688064575195\n",
      "  (942, 1006)\t0.28847962617874146\n",
      "  (942, 1017)\t0.28847962617874146\n",
      "  (942, 1820)\t0.28847962617874146\n"
     ]
    }
   ],
   "source": [
    "print(user_features)\n",
    "# data = user_features\n",
    "# for datum in data:\n",
    "#     print(datum)\n",
    "#     foo = len(datum)\n",
    "#     print(foo)"
   ]
  },
  {
   "cell_type": "code",
   "execution_count": 25,
   "id": "16515793",
   "metadata": {},
   "outputs": [],
   "source": [
    "interactions = dataset.build_interactions(data)\n",
    "\n",
    "user_features = dataset.build_user_features(user_features_data)\n",
    "item_features = dataset.build_item_features(item_features_data)"
   ]
  },
  {
   "cell_type": "code",
   "execution_count": 26,
   "id": "ac3e3241",
   "metadata": {},
   "outputs": [
    {
     "ename": "AttributeError",
     "evalue": "'tuple' object has no attribute 'tocoo'",
     "output_type": "error",
     "traceback": [
      "\u001b[0;31m---------------------------------------------------------------------------\u001b[0m",
      "\u001b[0;31mAttributeError\u001b[0m                            Traceback (most recent call last)",
      "Cell \u001b[0;32mIn[26], line 7\u001b[0m\n\u001b[1;32m      4\u001b[0m model \u001b[38;5;241m=\u001b[39m LightFM(no_components\u001b[38;5;241m=\u001b[39m\u001b[38;5;241m100\u001b[39m, loss\u001b[38;5;241m=\u001b[39m\u001b[38;5;124m\"\u001b[39m\u001b[38;5;124mwarp\u001b[39m\u001b[38;5;124m\"\u001b[39m, random_state\u001b[38;5;241m=\u001b[39m\u001b[38;5;241m123\u001b[39m)\n\u001b[1;32m      6\u001b[0m \u001b[38;5;66;03m# 学習\u001b[39;00m\n\u001b[0;32m----> 7\u001b[0m res \u001b[38;5;241m=\u001b[39m \u001b[43mmodel\u001b[49m\u001b[38;5;241;43m.\u001b[39;49m\u001b[43mfit\u001b[49m\u001b[43m(\u001b[49m\u001b[43minteractions\u001b[49m\u001b[38;5;241;43m=\u001b[39;49m\u001b[43minteractions\u001b[49m\u001b[43m,\u001b[49m\u001b[43m \u001b[49m\u001b[43muser_features\u001b[49m\u001b[38;5;241;43m=\u001b[39;49m\u001b[43muser_features\u001b[49m\u001b[43m,\u001b[49m\u001b[43m \u001b[49m\u001b[43mitem_features\u001b[49m\u001b[38;5;241;43m=\u001b[39;49m\u001b[43mitem_features\u001b[49m\u001b[43m)\u001b[49m\n\u001b[1;32m      9\u001b[0m res\n",
      "File \u001b[0;32m~/development/lightfm_sandbox/.venv/lib/python3.10/site-packages/lightfm/lightfm.py:550\u001b[0m, in \u001b[0;36mLightFM.fit\u001b[0;34m(self, interactions, user_features, item_features, sample_weight, epochs, num_threads, verbose)\u001b[0m\n\u001b[1;32m    547\u001b[0m \u001b[38;5;66;03m# Discard old results, if any\u001b[39;00m\n\u001b[1;32m    548\u001b[0m \u001b[38;5;28mself\u001b[39m\u001b[38;5;241m.\u001b[39m_reset_state()\n\u001b[0;32m--> 550\u001b[0m \u001b[38;5;28;01mreturn\u001b[39;00m \u001b[38;5;28;43mself\u001b[39;49m\u001b[38;5;241;43m.\u001b[39;49m\u001b[43mfit_partial\u001b[49m\u001b[43m(\u001b[49m\n\u001b[1;32m    551\u001b[0m \u001b[43m    \u001b[49m\u001b[43minteractions\u001b[49m\u001b[43m,\u001b[49m\n\u001b[1;32m    552\u001b[0m \u001b[43m    \u001b[49m\u001b[43muser_features\u001b[49m\u001b[38;5;241;43m=\u001b[39;49m\u001b[43muser_features\u001b[49m\u001b[43m,\u001b[49m\n\u001b[1;32m    553\u001b[0m \u001b[43m    \u001b[49m\u001b[43mitem_features\u001b[49m\u001b[38;5;241;43m=\u001b[39;49m\u001b[43mitem_features\u001b[49m\u001b[43m,\u001b[49m\n\u001b[1;32m    554\u001b[0m \u001b[43m    \u001b[49m\u001b[43msample_weight\u001b[49m\u001b[38;5;241;43m=\u001b[39;49m\u001b[43msample_weight\u001b[49m\u001b[43m,\u001b[49m\n\u001b[1;32m    555\u001b[0m \u001b[43m    \u001b[49m\u001b[43mepochs\u001b[49m\u001b[38;5;241;43m=\u001b[39;49m\u001b[43mepochs\u001b[49m\u001b[43m,\u001b[49m\n\u001b[1;32m    556\u001b[0m \u001b[43m    \u001b[49m\u001b[43mnum_threads\u001b[49m\u001b[38;5;241;43m=\u001b[39;49m\u001b[43mnum_threads\u001b[49m\u001b[43m,\u001b[49m\n\u001b[1;32m    557\u001b[0m \u001b[43m    \u001b[49m\u001b[43mverbose\u001b[49m\u001b[38;5;241;43m=\u001b[39;49m\u001b[43mverbose\u001b[49m\u001b[43m,\u001b[49m\n\u001b[1;32m    558\u001b[0m \u001b[43m\u001b[49m\u001b[43m)\u001b[49m\n",
      "File \u001b[0;32m~/development/lightfm_sandbox/.venv/lib/python3.10/site-packages/lightfm/lightfm.py:617\u001b[0m, in \u001b[0;36mLightFM.fit_partial\u001b[0;34m(self, interactions, user_features, item_features, sample_weight, epochs, num_threads, verbose)\u001b[0m\n\u001b[1;32m    570\u001b[0m \u001b[38;5;250m\u001b[39m\u001b[38;5;124;03m\"\"\"\u001b[39;00m\n\u001b[1;32m    571\u001b[0m \u001b[38;5;124;03mFit the model.\u001b[39;00m\n\u001b[1;32m    572\u001b[0m \n\u001b[0;32m   (...)\u001b[0m\n\u001b[1;32m    612\u001b[0m \u001b[38;5;124;03m    the fitted model\u001b[39;00m\n\u001b[1;32m    613\u001b[0m \u001b[38;5;124;03m\"\"\"\u001b[39;00m\n\u001b[1;32m    615\u001b[0m \u001b[38;5;66;03m# We need this in the COO format.\u001b[39;00m\n\u001b[1;32m    616\u001b[0m \u001b[38;5;66;03m# If that's already true, this is a no-op.\u001b[39;00m\n\u001b[0;32m--> 617\u001b[0m interactions \u001b[38;5;241m=\u001b[39m \u001b[43minteractions\u001b[49m\u001b[38;5;241;43m.\u001b[39;49m\u001b[43mtocoo\u001b[49m()\n\u001b[1;32m    619\u001b[0m \u001b[38;5;28;01mif\u001b[39;00m interactions\u001b[38;5;241m.\u001b[39mdtype \u001b[38;5;241m!=\u001b[39m CYTHON_DTYPE:\n\u001b[1;32m    620\u001b[0m     interactions\u001b[38;5;241m.\u001b[39mdata \u001b[38;5;241m=\u001b[39m interactions\u001b[38;5;241m.\u001b[39mdata\u001b[38;5;241m.\u001b[39mastype(CYTHON_DTYPE)\n",
      "\u001b[0;31mAttributeError\u001b[0m: 'tuple' object has no attribute 'tocoo'"
     ]
    }
   ],
   "source": [
    "from lightfm import LightFM\n",
    "\n",
    "# モデルの作成\n",
    "model = LightFM(no_components=100, loss=\"warp\", random_state=123)\n",
    "\n",
    "# 学習\n",
    "res = model.fit(interactions=interactions, user_features=user_features, item_features=item_features)\n",
    "\n",
    "res\n"
   ]
  },
  {
   "cell_type": "code",
   "execution_count": null,
   "id": "a3dc2ff6",
   "metadata": {},
   "outputs": [
    {
     "name": "stdout",
     "output_type": "stream",
     "text": [
      "<COOrdinate sparse matrix of dtype 'float32'\n",
      "\twith 1 stored elements and shape (3, 3)>\n",
      "  Coords\tValues\n",
      "  (2, 2)\t1.0 <COOrdinate sparse matrix of dtype 'float32'\n",
      "\twith 1 stored elements and shape (3, 3)>\n",
      "  Coords\tValues\n",
      "  (0, 1)\t1.0\n"
     ]
    }
   ],
   "source": [
    "from lightfm.cross_validation import random_train_test_split\n",
    "\n",
    "# interactionsを引数にとり、\n",
    "train_interactions, test_interactions = random_train_test_split(interactions=interactions, test_percentage=0.2)\n",
    "\n",
    "print(train_interactions, test_interactions)"
   ]
  },
  {
   "cell_type": "code",
   "execution_count": null,
   "id": "03572cfa",
   "metadata": {},
   "outputs": [
    {
     "ename": "AttributeError",
     "evalue": "'list' object has no attribute 'tocsr'",
     "output_type": "error",
     "traceback": [
      "\u001b[0;31m---------------------------------------------------------------------------\u001b[0m",
      "\u001b[0;31mAttributeError\u001b[0m                            Traceback (most recent call last)",
      "Cell \u001b[0;32mIn[45], line 6\u001b[0m\n\u001b[1;32m      1\u001b[0m \u001b[38;5;66;03m# modelのevaluation\u001b[39;00m\n\u001b[1;32m      3\u001b[0m \u001b[38;5;28;01mfrom\u001b[39;00m\u001b[38;5;250m \u001b[39m\u001b[38;5;21;01mlightfm\u001b[39;00m\u001b[38;5;21;01m.\u001b[39;00m\u001b[38;5;21;01mevaluation\u001b[39;00m\u001b[38;5;250m \u001b[39m\u001b[38;5;28;01mimport\u001b[39;00m precision_at_k\n\u001b[0;32m----> 6\u001b[0m precision_at_k \u001b[38;5;241m=\u001b[39m \u001b[43mprecision_at_k\u001b[49m\u001b[43m(\u001b[49m\u001b[43mmodel\u001b[49m\u001b[38;5;241;43m=\u001b[39;49m\u001b[43mmodel\u001b[49m\u001b[43m,\u001b[49m\u001b[43m \u001b[49m\u001b[43mtest_interactions\u001b[49m\u001b[38;5;241;43m=\u001b[39;49m\u001b[43mtest_interactions\u001b[49m\u001b[43m,\u001b[49m\u001b[43m \u001b[49m\u001b[43mtrain_interactions\u001b[49m\u001b[38;5;241;43m=\u001b[39;49m\u001b[43mtrain_interactions\u001b[49m\u001b[43m,\u001b[49m\u001b[43m \u001b[49m\u001b[43mk\u001b[49m\u001b[38;5;241;43m=\u001b[39;49m\u001b[38;5;241;43m10\u001b[39;49m\u001b[43m,\u001b[49m\u001b[43m \u001b[49m\u001b[43muser_features\u001b[49m\u001b[38;5;241;43m=\u001b[39;49m\u001b[43mall_user_features\u001b[49m\u001b[43m,\u001b[49m\u001b[43m \u001b[49m\u001b[43mitem_features\u001b[49m\u001b[38;5;241;43m=\u001b[39;49m\u001b[43mall_item_features\u001b[49m\u001b[43m)\u001b[49m\n\u001b[1;32m      8\u001b[0m precision_at_k\n",
      "File \u001b[0;32m~/development/lightfm_sandbox/.venv/lib/python3.10/site-packages/lightfm/evaluation.py:71\u001b[0m, in \u001b[0;36mprecision_at_k\u001b[0;34m(model, test_interactions, train_interactions, k, user_features, item_features, preserve_rows, num_threads, check_intersections)\u001b[0m\n\u001b[1;32m     68\u001b[0m \u001b[38;5;28;01mif\u001b[39;00m num_threads \u001b[38;5;241m<\u001b[39m \u001b[38;5;241m1\u001b[39m:\n\u001b[1;32m     69\u001b[0m     \u001b[38;5;28;01mraise\u001b[39;00m \u001b[38;5;167;01mValueError\u001b[39;00m(\u001b[38;5;124m\"\u001b[39m\u001b[38;5;124mNumber of threads must be 1 or larger.\u001b[39m\u001b[38;5;124m\"\u001b[39m)\n\u001b[0;32m---> 71\u001b[0m ranks \u001b[38;5;241m=\u001b[39m \u001b[43mmodel\u001b[49m\u001b[38;5;241;43m.\u001b[39;49m\u001b[43mpredict_rank\u001b[49m\u001b[43m(\u001b[49m\n\u001b[1;32m     72\u001b[0m \u001b[43m    \u001b[49m\u001b[43mtest_interactions\u001b[49m\u001b[43m,\u001b[49m\n\u001b[1;32m     73\u001b[0m \u001b[43m    \u001b[49m\u001b[43mtrain_interactions\u001b[49m\u001b[38;5;241;43m=\u001b[39;49m\u001b[43mtrain_interactions\u001b[49m\u001b[43m,\u001b[49m\n\u001b[1;32m     74\u001b[0m \u001b[43m    \u001b[49m\u001b[43muser_features\u001b[49m\u001b[38;5;241;43m=\u001b[39;49m\u001b[43muser_features\u001b[49m\u001b[43m,\u001b[49m\n\u001b[1;32m     75\u001b[0m \u001b[43m    \u001b[49m\u001b[43mitem_features\u001b[49m\u001b[38;5;241;43m=\u001b[39;49m\u001b[43mitem_features\u001b[49m\u001b[43m,\u001b[49m\n\u001b[1;32m     76\u001b[0m \u001b[43m    \u001b[49m\u001b[43mnum_threads\u001b[49m\u001b[38;5;241;43m=\u001b[39;49m\u001b[43mnum_threads\u001b[49m\u001b[43m,\u001b[49m\n\u001b[1;32m     77\u001b[0m \u001b[43m    \u001b[49m\u001b[43mcheck_intersections\u001b[49m\u001b[38;5;241;43m=\u001b[39;49m\u001b[43mcheck_intersections\u001b[49m\u001b[43m,\u001b[49m\n\u001b[1;32m     78\u001b[0m \u001b[43m\u001b[49m\u001b[43m)\u001b[49m\n\u001b[1;32m     80\u001b[0m ranks\u001b[38;5;241m.\u001b[39mdata \u001b[38;5;241m=\u001b[39m np\u001b[38;5;241m.\u001b[39mless(ranks\u001b[38;5;241m.\u001b[39mdata, k, ranks\u001b[38;5;241m.\u001b[39mdata)\n\u001b[1;32m     82\u001b[0m precision \u001b[38;5;241m=\u001b[39m np\u001b[38;5;241m.\u001b[39msqueeze(np\u001b[38;5;241m.\u001b[39marray(ranks\u001b[38;5;241m.\u001b[39msum(axis\u001b[38;5;241m=\u001b[39m\u001b[38;5;241m1\u001b[39m))) \u001b[38;5;241m/\u001b[39m k\n",
      "File \u001b[0;32m~/development/lightfm_sandbox/.venv/lib/python3.10/site-packages/lightfm/lightfm.py:949\u001b[0m, in \u001b[0;36mLightFM.predict_rank\u001b[0;34m(self, test_interactions, train_interactions, item_features, user_features, num_threads, check_intersections)\u001b[0m\n\u001b[1;32m    945\u001b[0m     \u001b[38;5;28mself\u001b[39m\u001b[38;5;241m.\u001b[39m_check_test_train_intersections(test_interactions, train_interactions)\n\u001b[1;32m    947\u001b[0m n_users, n_items \u001b[38;5;241m=\u001b[39m test_interactions\u001b[38;5;241m.\u001b[39mshape\n\u001b[0;32m--> 949\u001b[0m (user_features, item_features) \u001b[38;5;241m=\u001b[39m \u001b[38;5;28;43mself\u001b[39;49m\u001b[38;5;241;43m.\u001b[39;49m\u001b[43m_construct_feature_matrices\u001b[49m\u001b[43m(\u001b[49m\n\u001b[1;32m    950\u001b[0m \u001b[43m    \u001b[49m\u001b[43mn_users\u001b[49m\u001b[43m,\u001b[49m\u001b[43m \u001b[49m\u001b[43mn_items\u001b[49m\u001b[43m,\u001b[49m\u001b[43m \u001b[49m\u001b[43muser_features\u001b[49m\u001b[43m,\u001b[49m\u001b[43m \u001b[49m\u001b[43mitem_features\u001b[49m\n\u001b[1;32m    951\u001b[0m \u001b[43m\u001b[49m\u001b[43m)\u001b[49m\n\u001b[1;32m    953\u001b[0m \u001b[38;5;28;01mif\u001b[39;00m \u001b[38;5;129;01mnot\u001b[39;00m item_features\u001b[38;5;241m.\u001b[39mshape[\u001b[38;5;241m1\u001b[39m] \u001b[38;5;241m==\u001b[39m \u001b[38;5;28mself\u001b[39m\u001b[38;5;241m.\u001b[39mitem_embeddings\u001b[38;5;241m.\u001b[39mshape[\u001b[38;5;241m0\u001b[39m]:\n\u001b[1;32m    954\u001b[0m     \u001b[38;5;28;01mraise\u001b[39;00m \u001b[38;5;167;01mValueError\u001b[39;00m(\u001b[38;5;124m\"\u001b[39m\u001b[38;5;124mIncorrect number of features in item_features\u001b[39m\u001b[38;5;124m\"\u001b[39m)\n",
      "File \u001b[0;32m~/development/lightfm_sandbox/.venv/lib/python3.10/site-packages/lightfm/lightfm.py:321\u001b[0m, in \u001b[0;36mLightFM._construct_feature_matrices\u001b[0;34m(self, n_users, n_items, user_features, item_features)\u001b[0m\n\u001b[1;32m    319\u001b[0m     user_features \u001b[38;5;241m=\u001b[39m sp\u001b[38;5;241m.\u001b[39midentity(n_users, dtype\u001b[38;5;241m=\u001b[39mCYTHON_DTYPE, \u001b[38;5;28mformat\u001b[39m\u001b[38;5;241m=\u001b[39m\u001b[38;5;124m\"\u001b[39m\u001b[38;5;124mcsr\u001b[39m\u001b[38;5;124m\"\u001b[39m)\n\u001b[1;32m    320\u001b[0m \u001b[38;5;28;01melse\u001b[39;00m:\n\u001b[0;32m--> 321\u001b[0m     user_features \u001b[38;5;241m=\u001b[39m \u001b[43muser_features\u001b[49m\u001b[38;5;241;43m.\u001b[39;49m\u001b[43mtocsr\u001b[49m()\n\u001b[1;32m    323\u001b[0m \u001b[38;5;28;01mif\u001b[39;00m item_features \u001b[38;5;129;01mis\u001b[39;00m \u001b[38;5;28;01mNone\u001b[39;00m:\n\u001b[1;32m    324\u001b[0m     item_features \u001b[38;5;241m=\u001b[39m sp\u001b[38;5;241m.\u001b[39midentity(n_items, dtype\u001b[38;5;241m=\u001b[39mCYTHON_DTYPE, \u001b[38;5;28mformat\u001b[39m\u001b[38;5;241m=\u001b[39m\u001b[38;5;124m\"\u001b[39m\u001b[38;5;124mcsr\u001b[39m\u001b[38;5;124m\"\u001b[39m)\n",
      "\u001b[0;31mAttributeError\u001b[0m: 'list' object has no attribute 'tocsr'"
     ]
    }
   ],
   "source": [
    "# modelのevaluation\n",
    "\n",
    "from lightfm.evaluation import precision_at_k\n",
    "\n",
    "\n",
    "precision_at_k = precision_at_k(model=model, test_interactions=test_interactions, train_interactions=train_interactions, k=10, user_features=all_user_features, item_features=all_item_features)\n",
    "\n",
    "precision_at_k"
   ]
  }
 ],
 "metadata": {
  "kernelspec": {
   "display_name": "Python 3 (ipykernel)",
   "language": "python",
   "name": "python3"
  },
  "language_info": {
   "codemirror_mode": {
    "name": "ipython",
    "version": 3
   },
   "file_extension": ".py",
   "mimetype": "text/x-python",
   "name": "python",
   "nbconvert_exporter": "python",
   "pygments_lexer": "ipython3",
   "version": "3.10.13"
  }
 },
 "nbformat": 4,
 "nbformat_minor": 5
}
