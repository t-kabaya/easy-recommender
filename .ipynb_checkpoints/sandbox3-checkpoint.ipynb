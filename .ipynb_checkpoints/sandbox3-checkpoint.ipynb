{
 "cells": [
  {
   "cell_type": "code",
   "execution_count": null,
   "id": "11ce576b",
   "metadata": {},
   "outputs": [],
   "source": [
    "import pandas as pd\n",
    "from sklearn.preprocessing import MinMaxScaler\n",
    "from typing import List, Tuple, Dict\n",
    "from easy_recommender.recommender import recommend\n",
    "\n",
    "dataset_path = \"datasets/ml-1m/\"\n",
    "df = pd.read_csv(f\"{dataset_path}movielens_combined.csv\")\n",
    "print(df.head())\n",
    "\n",
    "# Define user and item features based on the dataset columns\n",
    "user_features = ['user_age', 'user_gender', 'user_occupation']\n",
    "item_features = ['item_genres']\n",
    "\n",
    "res = recommend(df, user_features, item_features)\n",
    "print('recommends: ', res)\n",
    "\n"
   ]
  }
 ],
 "metadata": {
  "language_info": {
   "name": "python"
  }
 },
 "nbformat": 4,
 "nbformat_minor": 5
}
